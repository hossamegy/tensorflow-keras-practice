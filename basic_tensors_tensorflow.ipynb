{
  "nbformat": 4,
  "nbformat_minor": 0,
  "metadata": {
    "colab": {
      "provenance": []
    },
    "kernelspec": {
      "name": "python3",
      "display_name": "Python 3"
    },
    "language_info": {
      "name": "python"
    }
  },
  "cells": [
    {
      "cell_type": "code",
      "source": [
        "import tensorflow as tf\n",
        "import numpy as np"
      ],
      "metadata": {
        "id": "eawTHW3Y5nqS"
      },
      "execution_count": 68,
      "outputs": []
    },
    {
      "cell_type": "markdown",
      "source": [
        "# **Creating tensor**"
      ],
      "metadata": {
        "id": "LzB7djzy86_0"
      }
    },
    {
      "cell_type": "code",
      "source": [
        "name_as_tensor = tf.Variable(\"Hossam\", dtype=tf.string)\n",
        "print(name_as_tensor)"
      ],
      "metadata": {
        "colab": {
          "base_uri": "https://localhost:8080/"
        },
        "id": "04Y-v-Hs5vug",
        "outputId": "d0a0f654-6e88-49e6-b53e-f3704f2f8a3f"
      },
      "execution_count": 69,
      "outputs": [
        {
          "output_type": "stream",
          "name": "stdout",
          "text": [
            "<tf.Variable 'Variable:0' shape=() dtype=string, numpy=b'Hossam'>\n"
          ]
        }
      ]
    },
    {
      "cell_type": "code",
      "source": [
        "vector = tf.constant([1, 2, 3, 4, 5, 6, 7, 8, 9, 10], dtype=tf.float32)\n",
        "print(vector)"
      ],
      "metadata": {
        "colab": {
          "base_uri": "https://localhost:8080/"
        },
        "id": "Mm0DH6Oa558N",
        "outputId": "c6ef2d7f-b3db-4388-e761-70fe9543c165"
      },
      "execution_count": 70,
      "outputs": [
        {
          "output_type": "stream",
          "name": "stdout",
          "text": [
            "tf.Tensor([ 1.  2.  3.  4.  5.  6.  7.  8.  9. 10.], shape=(10,), dtype=float32)\n"
          ]
        }
      ]
    },
    {
      "cell_type": "code",
      "source": [
        "vector = tf.Variable([1, 2, 3, 4, 5, 6, 7, 8, 9, 10], dtype=tf.float32)\n",
        "print(vector)"
      ],
      "metadata": {
        "colab": {
          "base_uri": "https://localhost:8080/"
        },
        "id": "bmlyEE5o6UmO",
        "outputId": "ca8f0ea7-7e89-4b0c-8142-ac85f5c70c40"
      },
      "execution_count": 71,
      "outputs": [
        {
          "output_type": "stream",
          "name": "stdout",
          "text": [
            "<tf.Variable 'Variable:0' shape=(10,) dtype=float32, numpy=array([ 1.,  2.,  3.,  4.,  5.,  6.,  7.,  8.,  9., 10.], dtype=float32)>\n"
          ]
        }
      ]
    },
    {
      "cell_type": "code",
      "source": [
        "tensor = tf.Variable(\n",
        "    [[1, 2, 3, 4, 5,],\n",
        "    [ 6, 7, 8, 9, 10]],\n",
        "    dtype=tf.float32\n",
        "  )\n",
        "print(tensor)"
      ],
      "metadata": {
        "colab": {
          "base_uri": "https://localhost:8080/"
        },
        "id": "Nglnrusw8Ju4",
        "outputId": "d3b25299-aac3-4794-c636-c2e367072419"
      },
      "execution_count": 72,
      "outputs": [
        {
          "output_type": "stream",
          "name": "stdout",
          "text": [
            "<tf.Variable 'Variable:0' shape=(2, 5) dtype=float32, numpy=\n",
            "array([[ 1.,  2.,  3.,  4.,  5.],\n",
            "       [ 6.,  7.,  8.,  9., 10.]], dtype=float32)>\n"
          ]
        }
      ]
    },
    {
      "cell_type": "code",
      "source": [
        "tensor = tf.constant([1, 2, 3, 4, 5, 6, 7, 8, 9, 10], shape=(2, 5), dtype=tf.float32)\n",
        "print(tensor)"
      ],
      "metadata": {
        "colab": {
          "base_uri": "https://localhost:8080/"
        },
        "id": "Lb653Ui9620C",
        "outputId": "da809bf1-d445-4f35-f0f9-a06980b704bb"
      },
      "execution_count": 73,
      "outputs": [
        {
          "output_type": "stream",
          "name": "stdout",
          "text": [
            "tf.Tensor(\n",
            "[[ 1.  2.  3.  4.  5.]\n",
            " [ 6.  7.  8.  9. 10.]], shape=(2, 5), dtype=float32)\n"
          ]
        }
      ]
    },
    {
      "cell_type": "code",
      "source": [
        "vector = tf.constant([1, 2, 3, 4, 5, 6, 7, 8, 9, 10], shape=(10, 1), dtype=tf.float32)\n",
        "print(vector)"
      ],
      "metadata": {
        "colab": {
          "base_uri": "https://localhost:8080/"
        },
        "id": "QQEGBsnW7ZH-",
        "outputId": "2ff2eb37-750e-4eb7-b20e-5d256a4866ed"
      },
      "execution_count": 74,
      "outputs": [
        {
          "output_type": "stream",
          "name": "stdout",
          "text": [
            "tf.Tensor(\n",
            "[[ 1.]\n",
            " [ 2.]\n",
            " [ 3.]\n",
            " [ 4.]\n",
            " [ 5.]\n",
            " [ 6.]\n",
            " [ 7.]\n",
            " [ 8.]\n",
            " [ 9.]\n",
            " [10.]], shape=(10, 1), dtype=float32)\n"
          ]
        }
      ]
    },
    {
      "cell_type": "code",
      "source": [
        "tesor_of_complex = tf.Variable(\n",
        "    [1 + 2j, 3 + 4j],\n",
        "    dtype=tf.complex64)\n",
        "print(tesor_of_complex)"
      ],
      "metadata": {
        "colab": {
          "base_uri": "https://localhost:8080/"
        },
        "id": "M8awzVHl7fxN",
        "outputId": "8b1488db-d3b1-4b9e-dfa8-3e044d6d2528"
      },
      "execution_count": 75,
      "outputs": [
        {
          "output_type": "stream",
          "name": "stdout",
          "text": [
            "<tf.Variable 'Variable:0' shape=(2,) dtype=complex64, numpy=array([1.+2.j, 3.+4.j], dtype=complex64)>\n"
          ]
        }
      ]
    },
    {
      "cell_type": "code",
      "source": [
        "zeros_tensor = tf.zeros(shape=(2, 3), dtype=tf.float32)\n",
        "print(zeros_tensor)"
      ],
      "metadata": {
        "colab": {
          "base_uri": "https://localhost:8080/"
        },
        "id": "tc5gY6m38yLP",
        "outputId": "dc824f4a-0806-4ec2-ec37-e1e6535721e1"
      },
      "execution_count": 76,
      "outputs": [
        {
          "output_type": "stream",
          "name": "stdout",
          "text": [
            "tf.Tensor(\n",
            "[[0. 0. 0.]\n",
            " [0. 0. 0.]], shape=(2, 3), dtype=float32)\n"
          ]
        }
      ]
    },
    {
      "cell_type": "code",
      "source": [
        "ones_tensor = tf.ones(shape=(2, 3), dtype=tf.float32)\n",
        "print(ones_tensor)"
      ],
      "metadata": {
        "colab": {
          "base_uri": "https://localhost:8080/"
        },
        "id": "uTkf1kgX-7LP",
        "outputId": "2d590866-6038-4470-a575-40221d39160b"
      },
      "execution_count": 77,
      "outputs": [
        {
          "output_type": "stream",
          "name": "stdout",
          "text": [
            "tf.Tensor(\n",
            "[[1. 1. 1.]\n",
            " [1. 1. 1.]], shape=(2, 3), dtype=float32)\n"
          ]
        }
      ]
    },
    {
      "cell_type": "code",
      "source": [
        "random_tensor = tf.random.uniform(shape=(5, 6), minval=2, maxval=10, dtype=tf.float32)\n",
        "print(random_tensor)"
      ],
      "metadata": {
        "colab": {
          "base_uri": "https://localhost:8080/"
        },
        "id": "XwBdY83W_Fqd",
        "outputId": "b8a6295b-aa97-432c-ada5-a64ee6fe7502"
      },
      "execution_count": 78,
      "outputs": [
        {
          "output_type": "stream",
          "name": "stdout",
          "text": [
            "tf.Tensor(\n",
            "[[9.661092  6.1368856 3.7762337 3.2184706 9.512897  4.611844 ]\n",
            " [9.293702  6.6469164 6.5663576 8.465069  8.860989  9.221125 ]\n",
            " [4.49662   7.167794  2.769764  9.222777  4.461046  3.1460419]\n",
            " [6.4033976 8.812488  4.1587734 7.6271563 5.4333897 8.596092 ]\n",
            " [5.0747766 3.0857143 9.908979  8.426862  4.5949383 4.8121777]], shape=(5, 6), dtype=float32)\n"
          ]
        }
      ]
    },
    {
      "cell_type": "code",
      "source": [
        "random_tensor = tf.random.normal(shape=(5, 6), stddev=6, dtype=tf.float32)\n",
        "print(random_tensor)"
      ],
      "metadata": {
        "colab": {
          "base_uri": "https://localhost:8080/"
        },
        "id": "8HqEaWoG_vku",
        "outputId": "3a2d8322-b534-43c7-b39b-948d7e75eec6"
      },
      "execution_count": 79,
      "outputs": [
        {
          "output_type": "stream",
          "name": "stdout",
          "text": [
            "tf.Tensor(\n",
            "[[ 15.534506     0.18732935   4.270515     9.153158     8.019412\n",
            "   -1.2756788 ]\n",
            " [ -1.6202211    0.87775576   0.91125464   0.57432693 -13.77227\n",
            "   -4.2894034 ]\n",
            " [ -2.8917437    5.5669985   -9.373075    -2.7607625    0.55079925\n",
            "    1.5327613 ]\n",
            " [ -9.059861     3.5630643    2.7099178    7.3513384   -3.4446995\n",
            "    2.350908  ]\n",
            " [  0.27317628   1.4588217    4.611095     1.4722316   14.072569\n",
            "   -3.9108062 ]], shape=(5, 6), dtype=float32)\n"
          ]
        }
      ]
    },
    {
      "cell_type": "code",
      "source": [
        "array = np.array([1, 2, 3, 4, 5, 6, 7, 8, 9, 10], dtype=np.float32)\n",
        "tensor_from_array = tf.constant(array, dtype=tf.float32)\n",
        "print(tensor_from_array)"
      ],
      "metadata": {
        "colab": {
          "base_uri": "https://localhost:8080/"
        },
        "id": "urK8mYgD__sO",
        "outputId": "1cb0aca6-52ca-407f-d90a-2492c524c4cb"
      },
      "execution_count": 80,
      "outputs": [
        {
          "output_type": "stream",
          "name": "stdout",
          "text": [
            "tf.Tensor([ 1.  2.  3.  4.  5.  6.  7.  8.  9. 10.], shape=(10,), dtype=float32)\n"
          ]
        }
      ]
    },
    {
      "cell_type": "code",
      "source": [
        "array = np.array([1, 2, 3, 4, 5, 6, 7, 8, 9, 10], dtype=np.float32)\n",
        "tensor_from_array = tf.convert_to_tensor(array, dtype=tf.float32)\n",
        "print(tensor_from_array)"
      ],
      "metadata": {
        "colab": {
          "base_uri": "https://localhost:8080/"
        },
        "id": "-AQY_Iw5AW5G",
        "outputId": "8fdd413c-de73-46fd-c0bb-71254536c6a0"
      },
      "execution_count": 81,
      "outputs": [
        {
          "output_type": "stream",
          "name": "stdout",
          "text": [
            "tf.Tensor([ 1.  2.  3.  4.  5.  6.  7.  8.  9. 10.], shape=(10,), dtype=float32)\n"
          ]
        }
      ]
    },
    {
      "cell_type": "code",
      "source": [
        "tensor = tf.range(start=0, limit=50, delta=5, dtype=tf.float32)\n",
        "print(tensor)"
      ],
      "metadata": {
        "colab": {
          "base_uri": "https://localhost:8080/"
        },
        "id": "dxiOxlBbAi8-",
        "outputId": "332739d6-1c68-4b70-9f7a-069cd13eba9b"
      },
      "execution_count": 82,
      "outputs": [
        {
          "output_type": "stream",
          "name": "stdout",
          "text": [
            "tf.Tensor([ 0.  5. 10. 15. 20. 25. 30. 35. 40. 45.], shape=(10,), dtype=float32)\n"
          ]
        }
      ]
    },
    {
      "cell_type": "code",
      "source": [
        "tensor = tf.fill(dims=(5, 5), value=5)\n",
        "print(tensor)"
      ],
      "metadata": {
        "colab": {
          "base_uri": "https://localhost:8080/"
        },
        "id": "0juoQD1zAsUg",
        "outputId": "5ab04bce-9840-4bda-8049-228b59d51a43"
      },
      "execution_count": 83,
      "outputs": [
        {
          "output_type": "stream",
          "name": "stdout",
          "text": [
            "tf.Tensor(\n",
            "[[5 5 5 5 5]\n",
            " [5 5 5 5 5]\n",
            " [5 5 5 5 5]\n",
            " [5 5 5 5 5]\n",
            " [5 5 5 5 5]], shape=(5, 5), dtype=int32)\n"
          ]
        }
      ]
    },
    {
      "cell_type": "code",
      "source": [
        "tensor = tf.eye(num_rows=5, num_columns=5, dtype=tf.float32)\n",
        "print(tensor)"
      ],
      "metadata": {
        "colab": {
          "base_uri": "https://localhost:8080/"
        },
        "id": "_PqLefPyBUxB",
        "outputId": "9c527dbb-44df-4d79-a967-ffbbd221ce76"
      },
      "execution_count": 84,
      "outputs": [
        {
          "output_type": "stream",
          "name": "stdout",
          "text": [
            "tf.Tensor(\n",
            "[[1. 0. 0. 0. 0.]\n",
            " [0. 1. 0. 0. 0.]\n",
            " [0. 0. 1. 0. 0.]\n",
            " [0. 0. 0. 1. 0.]\n",
            " [0. 0. 0. 0. 1.]], shape=(5, 5), dtype=float32)\n"
          ]
        }
      ]
    },
    {
      "cell_type": "code",
      "source": [
        "diag_vector = tf.constant([1, 2, 3], dtype=tf.float32)\n",
        "diag_tensor = tf.linalg.diag(diag_vector)\n",
        "print(diag_tensor)"
      ],
      "metadata": {
        "colab": {
          "base_uri": "https://localhost:8080/"
        },
        "id": "GQF3r5lGBmHW",
        "outputId": "62a703c4-4fde-4e65-e7e1-8b0b29272d20"
      },
      "execution_count": 85,
      "outputs": [
        {
          "output_type": "stream",
          "name": "stdout",
          "text": [
            "tf.Tensor(\n",
            "[[1. 0. 0.]\n",
            " [0. 2. 0.]\n",
            " [0. 0. 3.]], shape=(3, 3), dtype=float32)\n"
          ]
        }
      ]
    },
    {
      "cell_type": "markdown",
      "source": [
        "# **Basic Tensor Operations**"
      ],
      "metadata": {
        "id": "SWqX_Zufr4v_"
      }
    },
    {
      "cell_type": "code",
      "source": [
        "tensor_addation = tf.add([5, 2, 3], [1, 2, 3])\n",
        "print(tensor_addation)"
      ],
      "metadata": {
        "colab": {
          "base_uri": "https://localhost:8080/"
        },
        "id": "rDbtoxUeCjVA",
        "outputId": "f912ae07-5507-47f1-cf03-37251e385d1c"
      },
      "execution_count": 86,
      "outputs": [
        {
          "output_type": "stream",
          "name": "stdout",
          "text": [
            "tf.Tensor([6 4 6], shape=(3,), dtype=int32)\n"
          ]
        }
      ]
    },
    {
      "cell_type": "code",
      "source": [
        "square_tensor = tf.square(3)\n",
        "print(square_tensor)"
      ],
      "metadata": {
        "colab": {
          "base_uri": "https://localhost:8080/"
        },
        "id": "_eJ6lL5bsWWW",
        "outputId": "b5b76a0c-fd8c-47ab-8dc6-cf8015cbac6d"
      },
      "execution_count": 87,
      "outputs": [
        {
          "output_type": "stream",
          "name": "stdout",
          "text": [
            "tf.Tensor(9, shape=(), dtype=int32)\n"
          ]
        }
      ]
    },
    {
      "cell_type": "code",
      "source": [
        "summation_tensor = tf.reduce_sum([5, 2, 4])\n",
        "print(summation_tensor)"
      ],
      "metadata": {
        "colab": {
          "base_uri": "https://localhost:8080/"
        },
        "id": "nC8PlK_Vs_jl",
        "outputId": "5c7d09c6-42c0-47ce-a453-8daeb7ef90cb"
      },
      "execution_count": 88,
      "outputs": [
        {
          "output_type": "stream",
          "name": "stdout",
          "text": [
            "tf.Tensor(11, shape=(), dtype=int32)\n"
          ]
        }
      ]
    },
    {
      "cell_type": "code",
      "source": [
        "add_square_tensor = tf.add(tf.square(5), tf.square(2))\n",
        "print(add_square_tensor)\n",
        "\n",
        "add_square_tensor = tf.square(5) + tf.square(2)\n",
        "print(add_square_tensor)"
      ],
      "metadata": {
        "colab": {
          "base_uri": "https://localhost:8080/"
        },
        "id": "YI3uwypPtsEd",
        "outputId": "054fecf6-4bfb-4af5-b27e-31e6070469d7"
      },
      "execution_count": 89,
      "outputs": [
        {
          "output_type": "stream",
          "name": "stdout",
          "text": [
            "tf.Tensor(29, shape=(), dtype=int32)\n",
            "tf.Tensor(29, shape=(), dtype=int32)\n"
          ]
        }
      ]
    },
    {
      "cell_type": "code",
      "source": [
        "x = tf.constant([[1, 2, 3]], dtype=tf.float32)\n",
        "print(x)\n",
        "tensor = tf.squeeze(x, axis=0)\n",
        "print(tensor)"
      ],
      "metadata": {
        "colab": {
          "base_uri": "https://localhost:8080/"
        },
        "id": "Rgpm0CyBtz5N",
        "outputId": "f0f9b8ce-3c26-4582-ece6-ae22c3b5f1bb"
      },
      "execution_count": 90,
      "outputs": [
        {
          "output_type": "stream",
          "name": "stdout",
          "text": [
            "tf.Tensor([[1. 2. 3.]], shape=(1, 3), dtype=float32)\n",
            "tf.Tensor([1. 2. 3.], shape=(3,), dtype=float32)\n"
          ]
        }
      ]
    },
    {
      "cell_type": "code",
      "source": [
        "tensor = tf.constant(\n",
        "    [[1, 2, 3],\n",
        "     [7, 2, 3]],\n",
        "    dtype=tf.float32)\n",
        "\n",
        "add_tensor = tf.add(tensor, 5)\n",
        "print(add_tensor)"
      ],
      "metadata": {
        "colab": {
          "base_uri": "https://localhost:8080/"
        },
        "id": "V0CA0hlrvzY9",
        "outputId": "3c5a0a33-70b9-4432-848d-a0549adae0f1"
      },
      "execution_count": 91,
      "outputs": [
        {
          "output_type": "stream",
          "name": "stdout",
          "text": [
            "tf.Tensor(\n",
            "[[ 6.  7.  8.]\n",
            " [12.  7.  8.]], shape=(2, 3), dtype=float32)\n"
          ]
        }
      ]
    },
    {
      "cell_type": "code",
      "source": [
        "tensor = tf.constant(\n",
        "    [[1, 2, 3],\n",
        "     [7, 2, 3]],\n",
        "    dtype=tf.float32)\n",
        "\n",
        "square_tensor = tensor ** 2\n",
        "print(square_tensor)"
      ],
      "metadata": {
        "colab": {
          "base_uri": "https://localhost:8080/"
        },
        "id": "WsJI3UKDw8_X",
        "outputId": "a9724fa2-ca27-4195-c20f-342bc2518b2f"
      },
      "execution_count": 92,
      "outputs": [
        {
          "output_type": "stream",
          "name": "stdout",
          "text": [
            "tf.Tensor(\n",
            "[[ 1.  4.  9.]\n",
            " [49.  4.  9.]], shape=(2, 3), dtype=float32)\n"
          ]
        }
      ]
    },
    {
      "cell_type": "code",
      "source": [
        "tensor1 = tf.constant(\n",
        "    [[1, 2, 3],\n",
        "     [7, 2, 3]],\n",
        "    dtype=tf.float32)\n",
        "\n",
        "tensor2 = tf.constant(\n",
        "    [[1, 2, 3],\n",
        "     [7, 2, 3]],\n",
        "    dtype=tf.float32)\n",
        "\n",
        "add_tensor = np.add(tensor1, tensor2)\n",
        "print(add_tensor)\n",
        "print()\n",
        "\n",
        "sub_tensor = np.subtract(tensor1, tensor2)\n",
        "print(sub_tensor)\n",
        "print()\n",
        "\n",
        "mul_tensor = np.multiply(tensor1, tensor2)\n",
        "print(mul_tensor)\n",
        "print()\n",
        "\n",
        "div_tensor = np.divide(tensor1, tensor2)\n",
        "print(div_tensor)"
      ],
      "metadata": {
        "colab": {
          "base_uri": "https://localhost:8080/"
        },
        "id": "tsNv_kHoxKc-",
        "outputId": "64c6f27f-7b42-4af1-ffd2-26ee848c235a"
      },
      "execution_count": 93,
      "outputs": [
        {
          "output_type": "stream",
          "name": "stdout",
          "text": [
            "[[ 2.  4.  6.]\n",
            " [14.  4.  6.]]\n",
            "\n",
            "[[0. 0. 0.]\n",
            " [0. 0. 0.]]\n",
            "\n",
            "[[ 1.  4.  9.]\n",
            " [49.  4.  9.]]\n",
            "\n",
            "[[1. 1. 1.]\n",
            " [1. 1. 1.]]\n"
          ]
        }
      ]
    },
    {
      "cell_type": "code",
      "source": [
        "arr = np.ones([5, 5])\n",
        "tensor = tf.multiply(arr, 5)\n",
        "print(tensor)"
      ],
      "metadata": {
        "colab": {
          "base_uri": "https://localhost:8080/"
        },
        "id": "pghqkn0wxWJe",
        "outputId": "e86f6e20-c650-4767-c1e4-ca77c87885a6"
      },
      "execution_count": 98,
      "outputs": [
        {
          "output_type": "stream",
          "name": "stdout",
          "text": [
            "tf.Tensor(\n",
            "[[5. 5. 5. 5. 5.]\n",
            " [5. 5. 5. 5. 5.]\n",
            " [5. 5. 5. 5. 5.]\n",
            " [5. 5. 5. 5. 5.]\n",
            " [5. 5. 5. 5. 5.]], shape=(5, 5), dtype=float64)\n"
          ]
        }
      ]
    },
    {
      "cell_type": "code",
      "source": [
        "tensor_to_numpy = tensor.numpy()\n",
        "print(tensor_to_numpy)"
      ],
      "metadata": {
        "colab": {
          "base_uri": "https://localhost:8080/"
        },
        "id": "xSX17-sISGlz",
        "outputId": "ddb50305-af50-4020-aab0-a6e4ade00683"
      },
      "execution_count": 99,
      "outputs": [
        {
          "output_type": "stream",
          "name": "stdout",
          "text": [
            "[[5. 5. 5. 5. 5.]\n",
            " [5. 5. 5. 5. 5.]\n",
            " [5. 5. 5. 5. 5.]\n",
            " [5. 5. 5. 5. 5.]\n",
            " [5. 5. 5. 5. 5.]]\n"
          ]
        }
      ]
    },
    {
      "cell_type": "code",
      "source": [],
      "metadata": {
        "id": "I4d04uiSSpp5"
      },
      "execution_count": null,
      "outputs": []
    }
  ]
}